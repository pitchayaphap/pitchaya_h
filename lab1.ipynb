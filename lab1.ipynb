{
 "metadata": {
  "name": "lab1.ipynb"
 },
 "nbformat": 3,
 "nbformat_minor": 0,
 "worksheets": [
  {
   "cells": [
    {
     "cell_type": "code",
     "collapsed": false,
     "input": [
      "#Pitchaya Phapanon"
     ],
     "language": "python",
     "metadata": {},
     "outputs": []
    },
    {
     "cell_type": "code",
     "collapsed": false,
     "input": [
      "import arcpy\n",
      "from arcpy import env\n",
      "\n",
      "\n",
      "#connect with the shapefile\n",
      ">>> arcpy.env.workspace = \"H:\\\\saep_bg10\\\\\"\n",
      "\n",
      "#join saep_bg10.shp with washingtonFIPS.dbf table\n",
      ">>> arcpy.JoinField_management(\"saep_bg10.shp\",\"COUNTYFP10\",\"WashingtonFIPS.dbf\",\"FIPSCounty\",\"CountyName\")\n",
      "\n",
      "#disolve saep_bg10.shp into only COUNTYFP10\n",
      ">>> arcpy.Dissolve_management(\"saep_bg10\",\"County\",\"COUNTYFP10\")\n",
      "\n",
      "#Join County.shp with saep_bg10.shp\n",
      ">>> arcpy.JoinField_management(\"County\",\"COUNTYFP10\",\"saep_bg10\",\"COUNTYFP10\",\"CountyName\")\n",
      "\n",
      "#add total population field into County.shp\n",
      ">>> arcpy.management.AddField(\"County.shp\",\"TotalPop\",\"DOUBLE\")"
     ],
     "language": "python",
     "metadata": {},
     "outputs": []
    },
    {
     "cell_type": "code",
     "collapsed": false,
     "input": [
      "#produce county shapefiles\n",
      "fc_input = 'saep_bg10.shp'\n",
      "    fieldname = 'COUNTYFP10'\n",
      "    delimfield = arcpy.AddFieldDelimiters(fc_input, fieldname)\n",
      "    County = []\n",
      "    for fc_input in fieldname:\n",
      "        fc_output = dbf_dict[key]\n",
      "        #format key to match SQL\n",
      "        FIP_Code = \"'{0}'\".format(key)\n",
      "        #combine field name and attribute search\n",
      "        SQL_Statement = delimfield + \"=\" + FIP_Code\n",
      "        #create feature in only particular county\n",
      "        arcpy.MakeFeatureLayer_management(fc_input, 'County', SQL_Statement)\n",
      "        #create new shapfile\n",
      "        arcpy.CopyFeatures_management(\"County\", fc_output)\n",
      "        #format dictionary value to match file name\n",
      "        county_name.append(\"{0}.shp\".format(dbf_dict[key]))\n",
      "    return county_name"
     ],
     "language": "python",
     "metadata": {},
     "outputs": []
    },
    {
     "cell_type": "code",
     "collapsed": false,
     "input": [
      "#sum county population, give a list containing the file names of shapefiles in the working directory, return a list of lists where the first element of the inner list is the county name\n",
      ">>> all_counties = []\n",
      ">>> for county in saep_bg10.shp:\n",
      "        POP2013 = []\n",
      "        fc = County\n",
      "        cursor = arcpy.da.SearchCursor(fc,'POP2013')\n",
      "        for row in cursor:\n",
      "            POP2013.append(row[0])\n",
      "        TotalPop = sum(POP2013)\n",
      "        saep_bg10 = fc.replace(\".shp\",\"\")\n",
      "        all_counties.append([\"saep_bg10\",TotalPop])   \n",
      "        del row\n",
      "        del cursor\n",
      "    return all_counties\n"
     ],
     "language": "python",
     "metadata": {},
     "outputs": []
    },
    {
     "cell_type": "code",
     "collapsed": false,
     "input": [
      "ogr2ogr -f geoJSON tmp.geojson tmp.shp\n",
      "from subprocess import call\n",
      "import os\n",
      "\n",
      "os.environ[\"GDAL_DATA\"] = \"saep_bg10.shp\"\n",
      "os.environ[\"GDAL_DRIVER_PATH\"] = \"saep_bg10.shp\"\n",
      "os.environ[\"PROJ_LIB\"] = \"saep_bg10.shp\"\n",
      "os.environ[\"PATH\"] = \"C:\\\\OSGeo4W\\\\bin;\"+os.environ[\"PATH\"]+\";C:\\\\OSGeo4W\\\\apps\\\\m\n",
      "\n",
      "call(['C:\\\\OSGeo4W\\\\bin\\\\ogr2ogr',\n",
      "      '-f','GeoJSON','-t_srs','WGS84',\n",
      "      '-s_srs','EPSG:26913',\n",
      "      'C:\\\\saep_bg10.geojson',\n",
      "      'C:\\\\saep_bg10.shp'])"
     ],
     "language": "python",
     "metadata": {},
     "outputs": []
    }
   ],
   "metadata": {}
  }
 ]
}